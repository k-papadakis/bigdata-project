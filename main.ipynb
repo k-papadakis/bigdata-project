{
 "cells": [
  {
   "cell_type": "code",
   "execution_count": 1,
   "metadata": {},
   "outputs": [],
   "source": [
    "import findspark\n",
    "findspark.init()"
   ]
  },
  {
   "cell_type": "code",
   "execution_count": 2,
   "metadata": {},
   "outputs": [],
   "source": [
    "from pyspark import SparkContext, SparkConf\n",
    "from pyspark.sql import SparkSession\n",
    "from pyspark.sql.functions import col, size, split, explode\n",
    "from pyspark.sql.types import StringType, DateType, TimestampType, ShortType\n",
    "from pyspark.sql.types import IntegerType, LongType, StructField, StructType"
   ]
  },
  {
   "cell_type": "code",
   "execution_count": 3,
   "metadata": {},
   "outputs": [],
   "source": [
    "spark = SparkSession.builder.appName(\"mainApp\").getOrCreate()\n",
    "sc = spark.sparkContext"
   ]
  },
  {
   "cell_type": "code",
   "execution_count": 4,
   "metadata": {},
   "outputs": [
    {
     "name": "stdout",
     "output_type": "stream",
     "text": [
      "artists\n",
      "+---+-----------------+\n",
      "| id|             name|\n",
      "+---+-----------------+\n",
      "|  1|             null|\n",
      "|  2|อุ๋ย Buddha Bless|\n",
      "+---+-----------------+\n",
      "only showing top 2 rows\n",
      "\n",
      "========================================\n",
      "chart_artist_mapping\n",
      "+------+--------+\n",
      "|    id|artistId|\n",
      "+------+--------+\n",
      "| 15117|       1|\n",
      "|186929|       2|\n",
      "+------+--------+\n",
      "only showing top 2 rows\n",
      "\n",
      "========================================\n",
      "charts\n",
      "+-----+---------------+--------+----------+---------+---------+---------+-------+\n",
      "|   id|          title|position|      date|countryId|chartName| movement|streams|\n",
      "+-----+---------------+--------+----------+---------+---------+---------+-------+\n",
      "|60788|Grab the Moment|      37|2017-05-10|       44|   top200|  MOVE_UP|  49783|\n",
      "|60788|Grab the Moment|      41|2017-06-11|       44|   top200|MOVE_DOWN|  38374|\n",
      "+-----+---------------+--------+----------+---------+---------+---------+-------+\n",
      "only showing top 2 rows\n",
      "\n",
      "========================================\n",
      "regions\n",
      "+---+-----------+\n",
      "| id|countryName|\n",
      "+---+-----------+\n",
      "|  1|    Andorra|\n",
      "|  2|  Argentina|\n",
      "+---+-----------+\n",
      "only showing top 2 rows\n",
      "\n",
      "========================================\n"
     ]
    }
   ],
   "source": [
    "artists_schema = StructType([\n",
    "    StructField('id', LongType(), False),\n",
    "    StructField('name', StringType(), True),\n",
    "])\n",
    "\n",
    "chart_artist_mapping_schema = StructType([\n",
    "    StructField('id', LongType(), False),\n",
    "    StructField('artistId', LongType(), True),\n",
    "])\n",
    "\n",
    "charts_schema = StructType([\n",
    "    StructField('id', LongType(), False),\n",
    "    StructField('title', StringType(), True),\n",
    "    StructField('position', ShortType(), True),\n",
    "    StructField('date', DateType(), True),\n",
    "    StructField('countryId', LongType(), True),\n",
    "    StructField('chartName', StringType(), True),\n",
    "    StructField('movement', StringType(), True),\n",
    "    StructField('streams', LongType(), True),\n",
    "])\n",
    "\n",
    "regions_schema = StructType([\n",
    "    StructField('id', LongType(), False),\n",
    "    StructField('countryName', StringType(), True),\n",
    "])\n",
    "\n",
    "it = [\n",
    "    ('artists', artists_schema),\n",
    "    ('chart_artist_mapping', chart_artist_mapping_schema),\n",
    "    ('charts', charts_schema),\n",
    "    ('regions', regions_schema),\n",
    "]\n",
    "\n",
    "for stem, schema in it:\n",
    "    print(stem)\n",
    "    \n",
    "    df = spark.read.csv(\n",
    "        'files/{}.csv'.format(stem),\n",
    "        sep=',', header='false', schema=schema\n",
    "    )\n",
    "    df.write.save('files/{}.parquet'.format(stem))\n",
    "    \n",
    "    spark.read.parquet('files/{}.parquet'.format(stem)).show(2)\n",
    "    print('=' * 40)"
   ]
  },
  {
   "cell_type": "code",
   "execution_count": null,
   "metadata": {},
   "outputs": [],
   "source": [
    "spark.stop()"
   ]
  }
 ],
 "metadata": {
  "kernelspec": {
   "display_name": "Python 3.5.2 ('env': venv)",
   "language": "python",
   "name": "python3"
  },
  "language_info": {
   "codemirror_mode": {
    "name": "ipython",
    "version": 3
   },
   "file_extension": ".py",
   "mimetype": "text/x-python",
   "name": "python",
   "nbconvert_exporter": "python",
   "pygments_lexer": "ipython3",
   "version": "3.5.2"
  },
  "orig_nbformat": 4,
  "vscode": {
   "interpreter": {
    "hash": "d17c0307e6d293a3b9d147d0922b2b6f0dc5ee15a4acd65ad0544a470e97cc4d"
   }
  }
 },
 "nbformat": 4,
 "nbformat_minor": 2
}
