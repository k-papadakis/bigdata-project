{
 "cells": [
  {
   "cell_type": "code",
   "execution_count": 1,
   "metadata": {},
   "outputs": [
    {
     "data": {
      "text/html": [
       "\n",
       "            <div>\n",
       "                <p><b>SparkSession - hive</b></p>\n",
       "                \n",
       "        <div>\n",
       "            <p><b>SparkContext</b></p>\n",
       "\n",
       "            <p><a href=\"http://master:4040\">Spark UI</a></p>\n",
       "\n",
       "            <dl>\n",
       "              <dt>Version</dt>\n",
       "                <dd><code>v2.4.4</code></dd>\n",
       "              <dt>Master</dt>\n",
       "                <dd><code>spark://master:7077</code></dd>\n",
       "              <dt>AppName</dt>\n",
       "                <dd><code>PySparkShell</code></dd>\n",
       "            </dl>\n",
       "        </div>\n",
       "        \n",
       "            </div>\n",
       "        "
      ],
      "text/plain": [
       "<pyspark.sql.session.SparkSession at 0x7f8197cf2dd8>"
      ]
     },
     "execution_count": 1,
     "metadata": {},
     "output_type": "execute_result"
    }
   ],
   "source": [
    "spark"
   ]
  },
  {
   "cell_type": "code",
   "execution_count": 9,
   "metadata": {},
   "outputs": [],
   "source": [
    "import pyspark.sql.functions as F "
   ]
  },
  {
   "cell_type": "code",
   "execution_count": 55,
   "metadata": {},
   "outputs": [],
   "source": [
    "charts = spark.read.parquet('files/charts.parquet')\n",
    "\n",
    "# charts = (\n",
    "#     spark.read.format(\"csv\")\n",
    "#      .option(\"delimiter\", \",\")\n",
    "#      .option(\"header\", \"false\")\n",
    "#      .option(\"inferSchema\", \"true\")\n",
    "#      .option(\"mode\", \"DROPMALFORMED\")\n",
    "#      .option(\"path\", \"files/charts.csv\")\n",
    "#      .load()\n",
    "# )\n",
    "# charts = charts.toDF('id', 'title', 'position', 'date', 'countryId', 'chartName', 'movement', 'streams')"
   ]
  },
  {
   "cell_type": "code",
   "execution_count": 3,
   "metadata": {},
   "outputs": [],
   "source": [
    "charts.createOrReplaceTempView('charts')"
   ]
  },
  {
   "cell_type": "markdown",
   "metadata": {},
   "source": [
    "## Query 1"
   ]
  },
  {
   "cell_type": "code",
   "execution_count": 54,
   "metadata": {},
   "outputs": [
    {
     "name": "stdout",
     "output_type": "stream",
     "text": [
      "+------------+\n",
      "|sum(streams)|\n",
      "+------------+\n",
      "|  2324245979|\n",
      "+------------+\n",
      "\n"
     ]
    }
   ],
   "source": [
    "spark.sql('''\n",
    "    SELECT sum(streams) FROM charts\n",
    "    WHERE chartName=\"top200\" AND title=\"Shape of You\"\n",
    "''').show()"
   ]
  },
  {
   "cell_type": "markdown",
   "metadata": {},
   "source": [
    "## Query 2"
   ]
  },
  {
   "cell_type": "code",
   "execution_count": 7,
   "metadata": {},
   "outputs": [
    {
     "data": {
      "text/plain": [
       "[(0, 'id'),\n",
       " (1, 'title'),\n",
       " (2, 'position'),\n",
       " (3, 'date'),\n",
       " (4, 'countryId'),\n",
       " (5, 'chartName'),\n",
       " (6, 'movement'),\n",
       " (7, 'streams')]"
      ]
     },
     "execution_count": 7,
     "metadata": {},
     "output_type": "execute_result"
    }
   ],
   "source": [
    "list(enumerate(charts.columns))"
   ]
  },
  {
   "cell_type": "code",
   "execution_count": 56,
   "metadata": {},
   "outputs": [
    {
     "name": "stdout",
     "output_type": "stream",
     "text": [
      "+---------+------------------+\n",
      "|chartName|     max(avgCount)|\n",
      "+---------+------------------+\n",
      "|   top200|  54.2463768115942|\n",
      "|  viral50|24.985507246376812|\n",
      "+---------+------------------+\n",
      "\n"
     ]
    }
   ],
   "source": [
    "(\n",
    "    charts\n",
    "     .filter(F.col('position') == 1)\n",
    "     .groupBy(['chartName', 'title'])\n",
    "     .count()\n",
    "     .withColumn('avgCount', F.col('count') / 69)\n",
    "     .groupBy('chartName')\n",
    "     .agg(F.max('avgCount'))\n",
    "     .show()\n",
    ")"
   ]
  }
 ],
 "metadata": {
  "kernelspec": {
   "display_name": "Python 3",
   "language": "python",
   "name": "python3"
  },
  "language_info": {
   "codemirror_mode": {
    "name": "ipython",
    "version": 3
   },
   "file_extension": ".py",
   "mimetype": "text/x-python",
   "name": "python",
   "nbconvert_exporter": "python",
   "pygments_lexer": "ipython3",
   "version": "3.5.2"
  },
  "vscode": {
   "interpreter": {
    "hash": "d17c0307e6d293a3b9d147d0922b2b6f0dc5ee15a4acd65ad0544a470e97cc4d"
   }
  }
 },
 "nbformat": 4,
 "nbformat_minor": 2
}
